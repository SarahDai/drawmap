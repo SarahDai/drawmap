{
 "cells": [
  {
   "cell_type": "code",
   "execution_count": 1,
   "metadata": {
    "collapsed": true
   },
   "outputs": [],
   "source": [
    "from xml.dom.minidom import parse\n",
    "import xml.dom.minidom\n",
    "import math\n",
    "import copy\n",
    "import pyproj\n",
    "import pandas as pd"
   ]
  },
  {
   "cell_type": "code",
   "execution_count": 2,
   "metadata": {},
   "outputs": [],
   "source": [
    "class Road:\n",
    "    def __init__(self,roadType,points,name,start,end):\n",
    "        self.roadType=roadType\n",
    "        self.points=points\n",
    "        self.name=name\n",
    "        self.start=start\n",
    "        self.end=end\n",
    "        \n",
    "    def __str__(self):\n",
    "        return str(self.__class__) + \": \" + str(self.__dict__)\n",
    "\n",
    "        \n",
    "class Point:\n",
    "    def __init__(self,lat,lon):\n",
    "        self.lat=lat\n",
    "        self.lon=lon"
   ]
  },
  {
   "cell_type": "code",
   "execution_count": 3,
   "metadata": {},
   "outputs": [],
   "source": [
    "#OpenStreetMap data of Shenzhen\n",
    "DOMTree = xml.dom.minidom.parse(\"/Users/SarahDai/Downloads/map_Shenzhen.xml\")\n",
    "collection = DOMTree.documentElement\n",
    "if collection.hasAttribute(\"shelf\"):\n",
    "    print(\"Root element : %s\" % collection.getAttribute(\"shelf\"))"
   ]
  },
  {
   "cell_type": "code",
   "execution_count": 4,
   "metadata": {},
   "outputs": [],
   "source": [
    "#Get the key elements for analysis\n",
    "ways = collection.getElementsByTagName(\"way\")\n",
    "nodes = collection.getElementsByTagName(\"node\")\n",
    "relations = collection.getElementsByTagName(\"relation\")"
   ]
  },
  {
   "cell_type": "code",
   "execution_count": 5,
   "metadata": {},
   "outputs": [],
   "source": [
    "points = {}\n",
    "for node in nodes:\n",
    "    ref=node.getAttribute(\"id\")\n",
    "    lat=float(node.getAttribute(\"lat\"))\n",
    "    lon=float(node.getAttribute(\"lon\"))\n",
    "    point=Point(lat,lon)\n",
    "    points[ref]=point"
   ]
  },
  {
   "cell_type": "code",
   "execution_count": 6,
   "metadata": {},
   "outputs": [],
   "source": [
    "#Link nodes information to each road\n",
    "roads={}\n",
    "i=0\n",
    "for way in ways:\n",
    "    tags=way.getElementsByTagName(\"tag\")\n",
    "    reff=way.getAttribute(\"id\")\n",
    "    if len(tags)>0:\n",
    "        roadType=\"\"\n",
    "        roadName=\"\"\n",
    "        for tag in tags:\n",
    "            if tag.getAttribute(\"k\")==\"highway\":\n",
    "                roadType=tag.getAttribute(\"v\")\n",
    "                continue\n",
    "            if tag.getAttribute(\"k\")==\"name\":\n",
    "                roadName=tag.getAttribute(\"v\")\n",
    "                continue\n",
    "        if roadType in [\"motorway\",\"trunk\",\"primary\",\"secondary\",\"tertiary\",\"unclassified\",\"residential\",\"service\"]:\n",
    "            pos=way.getElementsByTagName(\"nd\")\n",
    "            roadPoints=[]\n",
    "            start=points[pos[0].getAttribute(\"ref\")]\n",
    "            end=points[pos[len(pos)-1].getAttribute(\"ref\")]\n",
    "            for po in pos:\n",
    "                ref=po.getAttribute(\"ref\")\n",
    "                roadPoints.append(points[ref])\n",
    "            road=Road(roadType,roadPoints,roadName,start,end)\n",
    "            roads[reff]=road"
   ]
  },
  {
   "cell_type": "code",
   "execution_count": 7,
   "metadata": {},
   "outputs": [
    {
     "data": {
      "text/plain": [
       "''"
      ]
     },
     "execution_count": 7,
     "metadata": {},
     "output_type": "execute_result"
    }
   ],
   "source": [
    "roads['310026884'].name"
   ]
  },
  {
   "cell_type": "code",
   "execution_count": 8,
   "metadata": {},
   "outputs": [],
   "source": [
    "#link the seprate roads into major roads\n",
    "for relation in relations:\n",
    "    ta=relation.getElementsByTagName(\"tag\")\n",
    "    for t in ta:\n",
    "        if t.getAttribute(\"k\")==\"route\":\n",
    "            roadType=t.getAttribute(\"v\")\n",
    "            continue\n",
    "    if roadType==\"road\":\n",
    "        tags=relation.getElementsByTagName(\"member\")\n",
    "        if len(tags)>0: \n",
    "            for tag in tags:\n",
    "                if tag.getAttribute(\"ref\") in roads:\n",
    "                    for ta in tags:\n",
    "                        if ta.getAttribute(\"ref\") in roads:\n",
    "                            roadtag=roads[tag.getAttribute(\"ref\")]\n",
    "                            roadta=roads[ta.getAttribute(\"ref\")]\n",
    "                            if (roadtag.end.lat==roadta.start.lat) and (roadtag.end.lon==roadta.start.lon):\n",
    "                                roads[tag.getAttribute(\"ref\")].points.extend(roads[ta.getAttribute(\"ref\")].points)\n",
    "                                roads[tag.getAttribute(\"ref\")].end=roads[ta.getAttribute(\"ref\")].end\n",
    "                                del roads[ta.getAttribute(\"ref\")]"
   ]
  },
  {
   "cell_type": "code",
   "execution_count": 9,
   "metadata": {},
   "outputs": [
    {
     "data": {
      "text/plain": [
       "21268"
      ]
     },
     "execution_count": 9,
     "metadata": {},
     "output_type": "execute_result"
    }
   ],
   "source": [
    "len(roads)"
   ]
  },
  {
   "cell_type": "code",
   "execution_count": 10,
   "metadata": {},
   "outputs": [
    {
     "data": {
      "text/plain": [
       "'328234603'"
      ]
     },
     "execution_count": 10,
     "metadata": {},
     "output_type": "execute_result"
    }
   ],
   "source": [
    "tag.getAttribute(\"ref\")"
   ]
  },
  {
   "cell_type": "code",
   "execution_count": 11,
   "metadata": {},
   "outputs": [
    {
     "data": {
      "text/plain": [
       "<__main__.Road at 0x2025bfe48>"
      ]
     },
     "execution_count": 11,
     "metadata": {},
     "output_type": "execute_result"
    }
   ],
   "source": [
    "roads['332001967']"
   ]
  },
  {
   "cell_type": "code",
   "execution_count": 12,
   "metadata": {},
   "outputs": [],
   "source": [
    "#For split the roads into paths less than 1 mile\n",
    "def repoint(points):\n",
    "    point=points[0]\n",
    "    pp=[point]\n",
    "    newPoints=[]\n",
    "    gdist=0\n",
    "    for i in range(1,len(points)):\n",
    "        tempPoint=points[i]\n",
    "        distt=dist(point,tempPoint)\n",
    "        if distt<=(1-gdist):\n",
    "            pp.append(tempPoint)\n",
    "            gdist=gdist+dist(point,tempPoint)\n",
    "            point=tempPoint\n",
    "        if distt>(1-gdist):\n",
    "            while dist(point,tempPoint)>(1-gdist):\n",
    "                endpoint=newEnd(point,tempPoint,1-gdist)\n",
    "                pp.append(endpoint)\n",
    "                point=endpoint\n",
    "                newPoints.append(pp)\n",
    "                pp=[point]\n",
    "                gdist=0\n",
    "            if dist(point,tempPoint)<=(1-gdist):\n",
    "                gdist=dist(point,tempPoint)\n",
    "                pp.append(tempPoint)\n",
    "                point=tempPoint\n",
    "    newPoints.append(pp)\n",
    "    return newPoints"
   ]
  },
  {
   "cell_type": "code",
   "execution_count": 13,
   "metadata": {},
   "outputs": [],
   "source": [
    "def dist(pointa,pointb):\n",
    "    radlat1=math.radians(pointa.lat)\n",
    "    radlat2=math.radians(pointb.lat)\n",
    "    a=radlat1-radlat2\n",
    "    b=math.radians(pointa.lon)-math.radians(pointb.lon)\n",
    "    s=2*math.asin(math.sqrt(math.pow(math.sin(a/2),2)+math.cos(radlat1)*math.cos(radlat2)*math.pow(math.sin(b/2),2)))\n",
    "    earth_radius=3958.7583\n",
    "    s=s*earth_radius\n",
    "    if s<0:\n",
    "        return -s\n",
    "    else:\n",
    "        return s"
   ]
  },
  {
   "cell_type": "code",
   "execution_count": 14,
   "metadata": {},
   "outputs": [],
   "source": [
    "def newEnd(pointa,pointb,dist):\n",
    "    tempd=dist/100/0.6213712\n",
    "    if abs(pointb.lat-pointa.lat)<=0.000000001:\n",
    "        return Point(pointa.lat,pointa.lon+tempd)\n",
    "    t1=math.sqrt(tempd*tempd/(1+(pointb.lon-pointa.lon)**2/(pointb.lat-pointa.lat)**2))\n",
    "    if pointb.lat<pointa.lat:\n",
    "        t1=0-t1\n",
    "    t2=(pointb.lon-pointa.lon)/(pointb.lat-pointa.lat)*t1\n",
    "    result=Point(t1+pointa.lat,t2+pointa.lon)\n",
    "    return result"
   ]
  },
  {
   "cell_type": "code",
   "execution_count": 15,
   "metadata": {},
   "outputs": [],
   "source": [
    "newroads=copy.deepcopy(roads)"
   ]
  },
  {
   "cell_type": "code",
   "execution_count": 16,
   "metadata": {},
   "outputs": [],
   "source": [
    "#Split the roads into one-mile-long paths\n",
    "for road in newroads:\n",
    "    newroads[road].points=repoint(roads[road].points)"
   ]
  },
  {
   "cell_type": "code",
   "execution_count": 16,
   "metadata": {},
   "outputs": [],
   "source": [
    "with open('/Users/SarahDai/PycharmProjects/untitled1/points.txt', 'w') as f:\n",
    "    for road in newroads:\n",
    "        outputString=newroads[road].roadType;\n",
    "        for points in newroads[road].points:\n",
    "            for i in range(0,len(points)-1):\n",
    "                output=outputString+\", \"+str(points[i].lat)+\", \"+str(points[i].lon)+\", \"+str(points[i+1].lat)+\", \"+str(points[i+1].lon);\n",
    "                f.write(output+\"\\n\");"
   ]
  },
  {
   "cell_type": "code",
   "execution_count": 17,
   "metadata": {},
   "outputs": [
    {
     "name": "stdout",
     "output_type": "stream",
     "text": [
      "[<__main__.Point object at 0x200d5c518>, <__main__.Point object at 0x200d5c400>]\n[<__main__.Point object at 0x200d5c518>, <__main__.Point object at 0x200d5c400>]\n"
     ]
    }
   ],
   "source": [
    "len(newroads)\n",
    "print(roads['315897135'].points)\n",
    "print(newroads['315897135'].points[0])"
   ]
  },
  {
   "cell_type": "code",
   "execution_count": 18,
   "metadata": {},
   "outputs": [
    {
     "name": "stdout",
     "output_type": "stream",
     "text": [
      "[[<__main__.Point object at 0x200be2630>, <__main__.Point object at 0x200bdfdd8>, <__main__.Point object at 0x200bdfcc0>, <__main__.Point object at 0x200be2400>, <__main__.Point object at 0x200be5b00>, <__main__.Point object at 0x200be50b8>, <__main__.Point object at 0x200be29e8>, <__main__.Point object at 0x200be22e8>, <__main__.Point object at 0x200be5630>, <__main__.Point object at 0x200be5ba8>, <__main__.Point object at 0x200be5198>, <__main__.Point object at 0x200be5908>]]\n"
     ]
    }
   ],
   "source": [
    "print (newroads[road].points)"
   ]
  },
  {
   "cell_type": "code",
   "execution_count": 19,
   "metadata": {},
   "outputs": [],
   "source": [
    "#Load in the taxi data\n",
    "with open('/Users/SarahDai/Downloads/TaxiData.txt', 'r') as f:\n",
    "    content=f.read();"
   ]
  },
  {
   "cell_type": "code",
   "execution_count": 20,
   "metadata": {},
   "outputs": [
    {
     "name": "stdout",
     "output_type": "stream",
     "text": [
      "46927856\n"
     ]
    }
   ],
   "source": [
    "print(len(content.split(\"\\n\")))"
   ]
  },
  {
   "cell_type": "code",
   "execution_count": 21,
   "metadata": {},
   "outputs": [],
   "source": [
    "import sklearn.utils as sk"
   ]
  },
  {
   "cell_type": "code",
   "execution_count": 27,
   "metadata": {},
   "outputs": [],
   "source": [
    "content_array = sk.resample(content.split(\"\\n\"),replace=False,n_samples=200000)"
   ]
  },
  {
   "cell_type": "code",
   "execution_count": 28,
   "metadata": {},
   "outputs": [],
   "source": [
    "with open(\"/Users/SarahDai/PycharmProjects/untitled1/newsplit.txt\",\"w\") as f:\n",
    "    for con in content_array:\n",
    "        f.write(con+\"\\n\")"
   ]
  },
  {
   "cell_type": "code",
   "execution_count": 1,
   "metadata": {},
   "outputs": [],
   "source": [
    "import pandas as pd\n",
    "taxi_points =pd.read_csv('/Users/SarahDai/PycharmProjects/untitled1/newsplit.csv')"
   ]
  },
  {
   "cell_type": "code",
   "execution_count": 2,
   "metadata": {},
   "outputs": [],
   "source": [
    "taxis=[]\n",
    "for i in range(len(taxi_points)):\n",
    "    taxi={}\n",
    "    taxi_point=taxi_points.iloc[i]\n",
    "    taxi[\"lat\"]=taxi_point[\"lat\"]\n",
    "    taxi[\"lon\"]=taxi_point[\"lon\"]\n",
    "    taxis.append(taxi)"
   ]
  },
  {
   "cell_type": "code",
   "execution_count": 18,
   "metadata": {},
   "outputs": [
    {
     "data": {
      "text/plain": [
       "200000"
      ]
     },
     "execution_count": 18,
     "metadata": {},
     "output_type": "execute_result"
    }
   ],
   "source": [
    "len(taxis)"
   ]
  },
  {
   "cell_type": "code",
   "execution_count": 19,
   "metadata": {},
   "outputs": [
    {
     "name": "stdout",
     "output_type": "stream",
     "text": [
      "{'lat': 22.637167000000002, 'lon': 114.17728400000001}\n"
     ]
    }
   ],
   "source": [
    "print(taxis[1])"
   ]
  },
  {
   "cell_type": "code",
   "execution_count": 20,
   "metadata": {},
   "outputs": [],
   "source": [
    "sortedIncidents=sorted(taxis,key=lambda d:d['lon'])"
   ]
  },
  {
   "cell_type": "code",
   "execution_count": 21,
   "metadata": {},
   "outputs": [
    {
     "data": {
      "text/plain": [
       "200000"
      ]
     },
     "execution_count": 21,
     "metadata": {},
     "output_type": "execute_result"
    }
   ],
   "source": [
    "len(sortedIncidents)"
   ]
  },
  {
   "cell_type": "code",
   "execution_count": 22,
   "metadata": {},
   "outputs": [],
   "source": [
    "def findPossibleLon(start,end,dist):\n",
    "    if start.lon>end.lon:\n",
    "        emp=start\n",
    "        start=end\n",
    "        end=emp\n",
    "    dist=dist*0.0001894/100/0.6213712\n",
    "    starti=0\n",
    "    inc=[]\n",
    "    while (starti<len(sortedIncidents)) and (sortedIncidents[starti][\"lon\"]<start.lon):\n",
    "        starti=starti+1\n",
    "    while (starti<len(sortedIncidents)) and (sortedIncidents[starti][\"lon\"]<=end.lon):\n",
    "        if belongToRoad(sortedIncidents[starti],start,end,dist):\n",
    "            inc.append(sortedIncidents[starti])\n",
    "        starti+=1\n",
    "    return inc"
   ]
  },
  {
   "cell_type": "code",
   "execution_count": 23,
   "metadata": {},
   "outputs": [],
   "source": [
    "def belongToRoad(point,start,end,dist):\n",
    "    if (end.lat-start.lat)<0.00000001:\n",
    "        if ((point[\"lon\"]<=end.lon) and (point[\"lon\"]>=start.lon)):\n",
    "            if (abs(point[\"lat\"]-start.lat)<dist):\n",
    "                return True\n",
    "    else:\n",
    "        if ((point[\"lon\"]-start.lon)>((start.lon-end.lon)/(end.lat-start.lat)*(point[\"lat\"]-start.lat))):\n",
    "            if ((point[\"lon\"]-end.lon)<((start.lon-end.lon)/(end.lat-start.lat)*(point[\"lat\"]-end.lat))):\n",
    "                a=end.lon-start.lon\n",
    "                b=end.lat-start.lon\n",
    "                down=math.sqrt(a**2+b**2)\n",
    "                up=a*point[\"lat\"]-b*point[\"lon\"]-b*start.lat+a*start.lon\n",
    "                if ((up/down)<dist):\n",
    "                    return True\n",
    "    return False"
   ]
  },
  {
   "cell_type": "code",
   "execution_count": 37,
   "metadata": {},
   "outputs": [],
   "source": [
    "roadsToDraw=[]\n",
    "not0count=0\n",
    "totalcount=0\n",
    "time=0\n",
    "for ro in newroads:\n",
    "    road=newroads[ro]\n",
    "    roadToDraw={}\n",
    "    psOfRoad=[]\n",
    "    if (time%1000==0):\n",
    "        print(time)\n",
    "    time+=1\n",
    "    roadToDraw[\"type\"]=road.roadType\n",
    "    for path in road.points:\n",
    "        pat={}\n",
    "        po={}\n",
    "        startPoint=path[0]\n",
    "        po[\"lat\"]=startPoint.lat\n",
    "        po[\"lon\"]=startPoint.lon\n",
    "        pos=[po]\n",
    "        count=0\n",
    "        incs=[]\n",
    "        for i in range(1,len(path)):\n",
    "            po1={}\n",
    "            nowPoint=path[i] \n",
    "            inc=findPossibleLon(startPoint,nowPoint,dist=100)\n",
    "            count=count+len(inc)\n",
    "            incs.extend(inc)\n",
    "            startPoint=nowPoint\n",
    "            po1[\"lat\"]=startPoint.lat\n",
    "            po1[\"lon\"]=startPoint.lon\n",
    "            pos.append(po1)\n",
    "        if (count>0):\n",
    "            not0count+=1\n",
    "            totalcount+=count\n",
    "        pat[\"count\"]=count\n",
    "        pat[\"points\"]=pos\n",
    "        psOfRoad.append(pat)\n",
    "    roadToDraw[\"path\"]=psOfRoad\n",
    "    roadsToDraw.append(roadToDraw)"
   ]
  },
  {
   "cell_type": "code",
   "execution_count": 54,
   "metadata": {},
   "outputs": [],
   "source": [
    "roadsToDraw[0]"
   ]
  },
  {
   "cell_type": "code",
   "execution_count": 25,
   "metadata": {},
   "outputs": [
    {
     "data": {
      "text/plain": [
       "4694"
      ]
     },
     "execution_count": 25,
     "metadata": {},
     "output_type": "execute_result"
    }
   ],
   "source": [
    "len(roadsToDraw)"
   ]
  },
  {
   "cell_type": "code",
   "execution_count": 60,
   "metadata": {},
   "outputs": [],
   "source": [
    "import json\n",
    "roadsToDraw=\n",
    "result = json.dumps(roadsToDraw)\n",
    "json.dump(roadsToDraw,open(\"/Users/SarahDai/PycharmProjects/untitled1/output_taxi.json\",\"w\"))"
   ]
  },
  {
   "cell_type": "code",
   "execution_count": null,
   "metadata": {},
   "outputs": [],
   "source": [
    ""
   ]
  },
  {
   "cell_type": "code",
   "execution_count": null,
   "metadata": {},
   "outputs": [],
   "source": [
    ""
   ]
  }
 ],
 "metadata": {
  "kernelspec": {
   "display_name": "Python 2",
   "language": "python",
   "name": "python2"
  },
  "language_info": {
   "codemirror_mode": {
    "name": "ipython",
    "version": 2.0
   },
   "file_extension": ".py",
   "mimetype": "text/x-python",
   "name": "python",
   "nbconvert_exporter": "python",
   "pygments_lexer": "ipython2",
   "version": "2.7.6"
  }
 },
 "nbformat": 4,
 "nbformat_minor": 0
}